{
 "cells": [
  {
   "cell_type": "markdown",
   "metadata": {},
   "source": [
    "## NGANGA CAREOLINE KANUTHU\n",
    "## BSC IN COMPUTER SCIENCE\n",
    "## SCT211-0020/2017\n",
    "## COMPUTER GRAPHICS"
   ]
  },
  {
   "cell_type": "code",
   "execution_count": 2,
   "metadata": {},
   "outputs": [
    {
     "name": "stdout",
     "output_type": "stream",
     "text": [
      "Enter x1 :2\n",
      "Enter y1 :5\n",
      "Enter x2 :10\n",
      "Enter y2 :10\n",
      "\n",
      "###############\n",
      "dx :  8 \n",
      "dy :  5\n",
      "m :  0.625\n",
      "e :  0.125 \n",
      "\n",
      "\n",
      "   X point  Y point      e   X   Y\n",
      "0        2        5 -0.250   3   6\n",
      "1        3        6  0.375   4   6\n",
      "2        4        6  0.000   5   7\n",
      "3        5        7  0.625   6   7\n",
      "4        6        7  0.250   7   8\n",
      "5        7        8 -0.125   8   9\n",
      "6        8        9  0.500   9   9\n",
      "7        9        9  0.125  10  10\n"
     ]
    },
    {
     "data": {
      "image/png": "[encoded data removed]",
      "text/plain": [
       "<Figure size 432x288 with 1 Axes>"
      ]
     },
     "metadata": {},
     "output_type": "display_data"
    }
   ],
   "source": [
    "import pandas as pd\n",
    "import matplotlib.pyplot as plt\n",
    "import seaborn as sns; sns.set()\n",
    "\n",
    "\n",
    "x0 = int(input(\"Enter x1 :\")) \n",
    "y0 = int(input(\"Enter y1 :\")) \n",
    "x1 = int(input(\"Enter x2 :\")) \n",
    "y1 = int(input(\"Enter y2 :\"))\n",
    "print(\"\\n###############\")\n",
    "\n",
    "x = x0\n",
    "y = y0\n",
    "\n",
    "dx = x1- x0\n",
    "dy = y1- y0\n",
    "print(\"dx : \",dx,\"\\ndy : \",dy)\n",
    "\n",
    "m = dy/dx\n",
    "print(\"m : \",m)\n",
    "\n",
    "e = m - 0.5\n",
    "print(\"e : \",e,\"\\n\\n\")\n",
    "\n",
    "#display list points\n",
    "x_point = []\n",
    "y_point = []\n",
    "x_ = []\n",
    "y_ = []\n",
    "e_ = []\n",
    "\n",
    "for i in range(dx):\n",
    "    x_point.append(x)\n",
    "    y_point.append(y)\n",
    "    while(e>0):\n",
    "        y=y+1\n",
    "        e=e-1\n",
    "    y_.append(y)\n",
    "    x=x+1\n",
    "    x_.append(x)\n",
    "    e=e+m\n",
    "    e_.append(e)\n",
    "    \n",
    "\n",
    "print(pd.DataFrame({\"X point\":x_point,\"Y point\":y_point,\"e\":e_, \"X\":x_,\"Y\":y_}))\n",
    "plt.scatter(x_point, y_point, color='red')\n",
    "plt.plot(x_point, y_point)\n",
    "plt.show()"
   ]
  },
  {
   "cell_type": "code",
   "execution_count": null,
   "metadata": {},
   "outputs": [],
   "source": []
  }
 ],
 "metadata": {
  "kernelspec": {
   "display_name": "Python 3",
   "language": "python",
   "name": "python3"
  },
  "language_info": {
   "codemirror_mode": {
    "name": "ipython",
    "version": 3
   },
   "file_extension": ".py",
   "mimetype": "text/x-python",
   "name": "python",
   "nbconvert_exporter": "python",
   "pygments_lexer": "ipython3",
   "version": "3.7.4"
  }
 },
 "nbformat": 4,
 "nbformat_minor": 2
}
